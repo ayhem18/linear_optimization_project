{
 "cells": [
  {
   "cell_type": "markdown",
   "metadata": {
    "id": "JwLBlvHEeSwd"
   },
   "source": [
    "# Section 0 - Useful functions for your project"
   ]
  },
  {
   "cell_type": "code",
   "execution_count": null,
   "metadata": {
    "id": "Qt1xTIaoZcdL"
   },
   "outputs": [],
   "source": [
    "# Import useful libraries\n",
    "import random\n",
    "import numpy as np\n",
    "import scipy.io as io\n",
    "import scipy.optimize as opt\n",
    "import os\n",
    "\n",
    "from tqdm import tqdm\n",
    "from itertools import combinations\n",
    "\n",
    "\n",
    "random.seed(0)\n",
    "np.random.seed(0)\n",
    "\n",
    "SCRIPT_DIR = os.getcwd()\n",
    "X_STANDARD_SOL_PATH = os.path.join(SCRIPT_DIR, 'x_standard.npy')"
   ]
  },
  {
   "cell_type": "markdown",
   "metadata": {
    "id": "30Jzyb7QZo9b"
   },
   "source": [
    "Here-under we define the functions to:\n",
    "- Encode a sentence into a binary vector\n",
    "- Decode a binary vector into a sentence"
   ]
  },
  {
   "cell_type": "code",
   "execution_count": 29,
   "metadata": {
    "id": "ZDCdJyuSZnq0"
   },
   "outputs": [],
   "source": [
    "def encoding_bin(mess):\n",
    "    # Convert each character to its ASCII value and then to binary\n",
    "    xi = [format(ord(char), '08b') for char in mess]\n",
    "\n",
    "    # Get the number of characters\n",
    "    m = len(xi)\n",
    "\n",
    "    # Initialize an empty list for the binary vector\n",
    "    x = []\n",
    "\n",
    "    # Convert each binary string to a binary vector\n",
    "    for i in range(m):\n",
    "        x.append([int(bit) for bit in xi[i]])\n",
    "\n",
    "    # Convert the list to a numpy array for easier manipulation\n",
    "    x = np.array(x)\n",
    "\n",
    "\n",
    "    # Return the binary vector and its dimensions\n",
    "    d = x.shape[1]  # Number of bits per character\n",
    "    x = x.flatten() # convert into a 1-d vector\n",
    "    return x, d\n",
    "\n",
    "def decoding_bin(x, d):\n",
    "    # Ensure x is a binary vector (0s and 1s)\n",
    "    x = np.clip(x, 0, 1)  # Clip values to be between 0 and 1\n",
    "    x = np.round(x)        # Round values to the nearest integer\n",
    "\n",
    "    # Initialize the output array\n",
    "    y = np.zeros((len(x) // d, d), dtype=int)\n",
    "\n",
    "    k = 0\n",
    "    for i in range(len(x) // d):\n",
    "        for j in range(d):\n",
    "            y[i, j] = int(x[k])  # Fill the binary matrix\n",
    "            k += 1\n",
    "\n",
    "    # Convert binary to decimal and then to characters\n",
    "    mess = ''.join(chr(int(''.join(map(str, row)), 2)) for row in y)\n",
    "\n",
    "    return mess, y"
   ]
  },
  {
   "cell_type": "markdown",
   "metadata": {
    "id": "stIne1dwngC9"
   },
   "source": [
    "The function below simulates the effect of the noisy channel"
   ]
  },
  {
   "cell_type": "code",
   "execution_count": 30,
   "metadata": {
    "id": "7W7DMfx2eEPt"
   },
   "outputs": [],
   "source": [
    "# Disrupts percenterror% of y entries randomly\n",
    "def noisychannel(y, percenterror):\n",
    "    m = len(y)                               # Length of the message\n",
    "    K = int(np.floor(m * percenterror))      # Number of entries to corrupt\n",
    "    I = np.random.permutation(m)[:K]         # Random indices to corrupt\n",
    "    y_n = np.copy(y)                         # Copy of the orginal message\n",
    "    vec = np.random.rand(K) * np.mean(y)\n",
    "    y_n[I] = vec                             # Corruption of selected inputs\n",
    "    return y_n"
   ]
  },
  {
   "cell_type": "code",
   "execution_count": 31,
   "metadata": {
    "colab": {
     "base_uri": "https://localhost:8080/"
    },
    "id": "sEoAkby4gwAw",
    "outputId": "f790b6d2-6b5a-44a9-afbb-747ce43e78e9"
   },
   "outputs": [
    {
     "name": "stdout",
     "output_type": "stream",
     "text": [
      "Message sent: A crystal clear message\n",
      "Decoded noisy message: @ cr9stal cl%Ar message\n"
     ]
    }
   ],
   "source": [
    "# Try it\n",
    "message_in = \"A crystal clear message\"\n",
    "binary_vector, dimensions = encoding_bin(message_in)\n",
    "percenterror = 0.05\n",
    "float_vector = binary_vector.astype(np.float32)\n",
    "yprime = noisychannel(float_vector, percenterror)\n",
    "print(\"Message sent:\", message_in)\n",
    "message_corr_decoded, binary_matrix = decoding_bin(yprime, dimensions)\n",
    "print(\"Decoded noisy message:\", message_corr_decoded)"
   ]
  },
  {
   "cell_type": "code",
   "execution_count": 32,
   "metadata": {
    "colab": {
     "base_uri": "https://localhost:8080/"
    },
    "id": "KjobNgJKvS3c",
    "outputId": "41fc8cf9-36c8-45ff-eeb9-01f97847c0bf"
   },
   "outputs": [
    {
     "data": {
      "text/plain": [
       "(184,)"
      ]
     },
     "execution_count": 32,
     "metadata": {},
     "output_type": "execute_result"
    }
   ],
   "source": [
    "float_vector.shape"
   ]
  },
  {
   "cell_type": "markdown",
   "metadata": {
    "id": "kIDncpN3p02h"
   },
   "source": [
    "# Section 1 - Decode the Message from Alice"
   ]
  },
  {
   "cell_type": "code",
   "execution_count": 33,
   "metadata": {
    "id": "4uJGoNQSoLdS"
   },
   "outputs": [],
   "source": [
    "# Load your mat file in Python\n",
    "## Once your team is built, contact the Instructors by email to mention who is part of the group.\n",
    "## You will then receive by return email your personal message from Alice to decrypt in .mat file.\n",
    "## Alert: do not share it !\n",
    "\n",
    "data = io.loadmat('messageFromAlice.mat')\n",
    "# data is dictionnay where\n",
    "## data['A'] is the encoding matrix exchanged between Alice and Bob\n",
    "## data['d'] is the dimension\n",
    "## data['yprime'] is the encrypted message received from Alice\n",
    "\n",
    "# Load the arrays\n",
    "A = data['A']\n",
    "yprime = data['yprime'].T\n",
    "yprime = np.squeeze(yprime)\n",
    "d = data['d'][0][0]"
   ]
  },
  {
   "cell_type": "code",
   "execution_count": 34,
   "metadata": {},
   "outputs": [],
   "source": [
    "# let's create some utility functions\n",
    "def get_standard_format_matrix(A: np.ndarray) -> np.ndarray:\n",
    "    m, p = A.shape\n",
    "    I = np.eye(m)\n",
    "    # let's prepare the 4 blocks\n",
    "    ab1 = np.concatenate([-A, I, -np.eye(m), np.zeros((m, m)), np.zeros((m, p))], axis=1)\n",
    "    ab2 = np.concatenate([A, I, np.zeros((m, m)), -np.eye(m), np.zeros((m, p))], axis=1)\n",
    "    ab3 = np.concatenate([-np.eye(p), np.zeros((p, m)), np.zeros((p, m)), np.zeros((p, m)), -np.eye(p)], axis=1)\n",
    "    \n",
    "    Astandard = np.concatenate([ab1, ab2, ab3], axis=0)\n",
    "\n",
    "    assert Astandard.shape == (2 * m + p, 2 * p + 3 * m), f\"Expected {(2 * m + p, 2 * p + 3 * m)}. Found: {Astandard.shape}\"\n",
    "\n",
    "    return Astandard\n",
    "\n",
    "def get_cost_coefficients(A: np.ndarray) -> np.ndarray:\n",
    "    m, p = A.shape\n",
    "    # let's build the cost coefficient \n",
    "    c = np.concatenate([np.zeros((1, p)), \n",
    "                        np.ones((1, m)),\n",
    "                        np.zeros((1, m)),\n",
    "                        np.zeros((1, m)),\n",
    "                        np.zeros((1, p)),                        \n",
    "                        ], \n",
    "                        axis=1).squeeze() \n",
    "\n",
    "    # c = [0, 0, 0, 0, 0...1, 1, 1,] (p 0s and m 1s)\n",
    "    assert c.shape == (2 * p + 3 * m, ), f\"Expected {(2 * p + 3 * m, )}. Found: {c.shape}\"\n",
    "\n",
    "    return c\n",
    "\n",
    "def get_eq_constraints(A: np.ndarray, y_noise: np.ndarray) -> np.ndarray:\n",
    "    m, p = A.shape\n",
    "    y_2d = np.expand_dims(y_noise, axis=0)\n",
    "    b_standard = np.concatenate([-y_2d, y_2d, -np.ones((1, p))], axis=1).squeeze()\n",
    "    assert b_standard .shape == (2 * m + p,), f\"Expected {(2 * m + p,)}. Found: {b_standard .shape}\"\n",
    "    return b_standard\n"
   ]
  },
  {
   "cell_type": "code",
   "execution_count": 35,
   "metadata": {},
   "outputs": [],
   "source": [
    "def solve_relaxed(A: np.ndarray, y_noise: np.ndarray):\n",
    "    # according to the scipy.linprog documentation\n",
    "    # the function accepts 5 arguments\n",
    "    # c, Aub, bub, Aeq, b_eq, lb, ub\n",
    "\n",
    "    # minimize: c @ x\n",
    "    # such that\n",
    "    # A_ub @ x <= b_ub\n",
    "    # A_eq @ x == b_eq\n",
    "    # lb <= x <= ub\n",
    "\n",
    "    c = get_cost_coefficients(A)\n",
    "    Astandard = get_standard_format_matrix(A)\n",
    "    b_standard = get_eq_constraints(A, y_noise)\n",
    "\n",
    "    x_standard = opt.linprog(c, A_ub=None, b_ub=None, A_eq=Astandard, b_eq=b_standard, bounds=(0, None)).x\n",
    "    return x_standard"
   ]
  },
  {
   "cell_type": "markdown",
   "metadata": {
    "id": "qVtiI2natbSJ"
   },
   "source": [
    "Use your algorithm to solve\n",
    "\n",
    "$min_{0 <= x^{'} <= 1} ||A*x^{'} - y^{'}||_1$\n"
   ]
  },
  {
   "cell_type": "code",
   "execution_count": 36,
   "metadata": {
    "id": "TN_wHLGcrzEV"
   },
   "outputs": [
    {
     "name": "stdout",
     "output_type": "stream",
     "text": [
      "The recovered message is: You can claim your personal reward by going to Student affairs, giving you code=1350 and ask for you reward\n"
     ]
    }
   ],
   "source": [
    "# save x_standard once instead of rerunning everytime\n",
    "if not os.path.exists(X_STANDARD_SOL_PATH):\n",
    "    x_standard = solve_relaxed(A, yprime)\n",
    "    np.save(X_STANDARD_SOL_PATH, x_standard)\n",
    "else:\n",
    "    x_standard = np.load(X_STANDARD_SOL_PATH)\n",
    "\n",
    "# since x_standard contains xprime, t and slack variables, we need to extract x' before proceeding\n",
    "xprime = x_standard[:A.shape[1]]\n",
    "\n",
    "# Display the result:\n",
    "d = 8    # Number of bits per character\n",
    "message_decoded, binary_matrix = decoding_bin(xprime, d)\n",
    "print(\"The recovered message is:\", message_decoded)"
   ]
  },
  {
   "cell_type": "markdown",
   "metadata": {
    "id": "zZqRba04AArl"
   },
   "source": [
    "# Section 2 - Generate and Decode your own messages"
   ]
  },
  {
   "cell_type": "markdown",
   "metadata": {
    "id": "rbsk2I_eBhtz"
   },
   "source": [
    "This section is dedicated to the fifth question of the project:\n",
    "- Sending an encrypted message through a channel with sparse Gaussian noise...\n",
    "- Encode and decode a message yourself:"
   ]
  },
  {
   "cell_type": "code",
   "execution_count": 37,
   "metadata": {},
   "outputs": [],
   "source": [
    "MY_MESSAGE = \"Test...test...Ayhem Speaking...\""
   ]
  },
  {
   "cell_type": "code",
   "execution_count": 38,
   "metadata": {
    "id": "XDxNWsuUAHt2"
   },
   "outputs": [],
   "source": [
    "from typing import Tuple\n",
    "def prepare_message(message: str, percent_error:float = 0.1) -> Tuple[int, np.ndarray]:\n",
    "    # Message in binary form\n",
    "    binary_vector, d = encoding_bin(message)\n",
    "    x = binary_vector.astype(np.float32)\n",
    "\n",
    "    # Length of the message\n",
    "    size = x.shape\n",
    "    n = size[0]\n",
    "\n",
    "    # Length of the message which will be sent\n",
    "    m = 4*n\n",
    "\n",
    "    # Encoding matrix: we take a randomly generated matrix\n",
    "    A = np.random.randn(m,n)\n",
    "\n",
    "    # Message you wish to send\n",
    "    y = A@x\n",
    "\n",
    "    yprime = noisychannel(y, percent_error)    \n",
    "\n",
    "    return A, yprime\n",
    "\n",
    "\n",
    "def decode_relaxed_messages(message: str, percent_error: float = 0.1):\n",
    "    A, yprime = prepare_message(message=message, percent_error=percent_error)\n",
    "\n",
    "    m, n = A.shape\n",
    "\n",
    "    file_name = os.path.join(SCRIPT_DIR, f'my_msg_{round(percent_error, 4)}.npy')\n",
    "\n",
    "    if not os.path.exists(file_name): \n",
    "        x_standard = solve_relaxed(A, yprime)\n",
    "        np.save(file_name, x_standard)\n",
    "        return n, x_standard\n",
    "    else:\n",
    "        return n, np.load(file_name)    "
   ]
  },
  {
   "cell_type": "markdown",
   "metadata": {
    "id": "JiqEFkWcC0CY"
   },
   "source": [
    "Find x approximately from yprime by solving:\n",
    "\n",
    "\n",
    "$min_{0 <= x^{'} <= 1} ||A*x^{'} - y^{'}||_1$"
   ]
  },
  {
   "cell_type": "code",
   "execution_count": 39,
   "metadata": {},
   "outputs": [
    {
     "name": "stdout",
     "output_type": "stream",
     "text": [
      "The recovered message is with 0 noise level: Test...test...Ayhem Speaking...\n",
      "m : 2232, n: 3472\n",
      "at least 1240 zero entries\n",
      "Found: 3178 zero entries\n"
     ]
    }
   ],
   "source": [
    "# run the method without adding noise\n",
    "A, yprime = prepare_message(message=MY_MESSAGE, percent_error=0)\n",
    "_, n_org = A.shape\n",
    "Astandard = get_standard_format_matrix(A)\n",
    "m, n = Astandard.shape\n",
    "x_standard = solve_relaxed(A, yprime)\n",
    "xprime = x_standard[:n_org]\n",
    "d = 8    # Number of bits per character\n",
    "message_decoded, binary_matrix = decoding_bin(xprime, d)\n",
    "print(f\"The recovered message is with 0 noise level:\", message_decoded)        \n",
    "\n",
    "print(f\"m : {m}, n: {n}\") # 2232, 3472\n",
    "print(f\"at least {n - m} zero entries\") # 1240\n",
    "print(f\"Found: {len([x for x in x_standard if x == 0])} zero entries\") # 3182"
   ]
  },
  {
   "cell_type": "code",
   "execution_count": 40,
   "metadata": {
    "id": "pw265t1xCzaA"
   },
   "outputs": [
    {
     "name": "stdout",
     "output_type": "stream",
     "text": [
      "The actual message: Test...test...Ayhem Speaking...\n",
      "\n",
      "\n",
      "The recovered message is with 0 noise level: Test...test...Ayhem Speaking...\n",
      "The recovered message is with 0.05 noise level: Test...test...Ayhem Speaking...\n",
      "The recovered message is with 0.1 noise level: Test...test...Ayhem Speaking...\n",
      "The recovered message is with 0.2 noise level: Test...test...Ayhem Speaking...\n",
      "The recovered message is with 0.3 noise level: Test...test...Ayhem Speaking...\n",
      "The recovered message is with 0.4 noise level: Test...test...Ayhem Speaking...\n",
      "The recovered message is with 0.5 noise level: @\u0000 \u0000\u0002\u0002\u0004\u0005\u0001\u0000  (\u00011@\u0001\u0000 \u0000@ \u0000(\u0000\u0000\u0006,\n",
      "The recovered message is with 0.6 noise level: \u0000\u0000\u0000\u0000\u0000\u0000\u0000\u0000\u0000\u0000\u0000\u0000\u0000\u0000\u0000\u0000\u0000\u0000\u0000\u0000\u0000\u0000\u0000\u0000\u0000\u0000\u0000\u0000\u0000\u0000\u0000\n",
      "The recovered message is with 0.7 noise level: \u0000\u0000\u0000\u0000\u0000\u0000\u0000\u0000\u0000\u0000\u0000\u0000\u0000\u0000\u0000\u0000\u0000\u0000\u0000\u0000\u0000\u0000\u0000\u0000\u0000\u0000\u0000\u0000\u0000\u0000\u0000\n",
      "The recovered message is with 0.8 noise level: \u0000\u0000\u0000\u0000\u0000\u0000\u0000\u0000\u0000\u0000\u0000\u0000\u0000\u0000\u0000\u0000\u0000\u0000\u0000\u0000\u0000\u0000\u0000\u0000\u0000\u0000\u0000\u0000\u0000\u0000\u0000\n"
     ]
    }
   ],
   "source": [
    "print(f\"The actual message: {MY_MESSAGE}\\n\\n\")\n",
    "\n",
    "for pe in [0, 0.05, 0.1, 0.2, 0.3, 0.4, 0.5, 0.6, 0.7, 0.8]:\n",
    "    n, x = decode_relaxed_messages(MY_MESSAGE, pe)\n",
    "    xprime = x[:n]\n",
    "    d = 8    # Number of bits per character\n",
    "    message_decoded, binary_matrix = decoding_bin(xprime, d)\n",
    "    print(f\"The recovered message is with {pe} noise level:\", message_decoded)        "
   ]
  },
  {
   "cell_type": "markdown",
   "metadata": {
    "id": "fd-KYQT8E3dH"
   },
   "source": [
    "# Section 3 - Dikin's Method"
   ]
  },
  {
   "cell_type": "markdown",
   "metadata": {
    "id": "Sba0cT9SFEMA"
   },
   "source": [
    "This section is dedicated to the sixth question of the project:\n",
    "- Implement the Dikin's Method and compare its results with the previous ones."
   ]
  },
  {
   "cell_type": "code",
   "execution_count": 41,
   "metadata": {},
   "outputs": [],
   "source": [
    "def dikin_initialization(A: np.ndarray, b:np.ndarray, epsilon: float) -> np.ndarray:\n",
    "    # quick check: make sure the shapes match\n",
    "    if A.ndim != 2:\n",
    "        raise ValueError(f\"The initialization function expects 'A' to be 2 dimensionsal. Found: {A.shape}\")\n",
    "\n",
    "    if b.ndim not in (1, 2):\n",
    "        raise ValueError(f\"The function expects the 'b' argument to be at most 2 dimensional. Found: {b.shape}\")\n",
    "    \n",
    "    if b.ndim == 2 and 1 not in b.shape:\n",
    "        raise ValueError(f\"if the 'b' argument is 2 dimensional, then it has to have a singleton dimension. Found: {b.shape}\")  \n",
    "\n",
    "    if epsilon <= 0 or epsilon > 10 ** -3:\n",
    "        raise ValueError(\"The value epsilon is expected in the range ]0, 0.001]\")\n",
    "\n",
    "\n",
    "    # the scipy function expects a 1 dimensional np.array\n",
    "    b = np.squeeze(b)\n",
    "\n",
    "    # the initial point can be found by solving the following problem:\n",
    "    # min x 0 \n",
    "    # such that A x = b\n",
    "    # x >= epsilon \n",
    "    _, n = A.shape\n",
    "    c = np.zeros((n,))\n",
    "    x_0 = opt.linprog(c = c, A_ub = None, b_ub = None, A_eq = A, b_eq=b, bounds = (epsilon , None)).x\n",
    "\n",
    "    if x_0 is None:\n",
    "        return None\n",
    "\n",
    "    assert np.allclose(A @ x_0, b) , \"Ax = b issues\"\n",
    "    assert np.all(x_0 >= epsilon - 10 ** -5), \"epislon issues\" \n",
    "\n",
    "    return np.expand_dims(x_0, axis=-1)"
   ]
  },
  {
   "cell_type": "code",
   "execution_count": 42,
   "metadata": {},
   "outputs": [],
   "source": [
    "from typing import Optional\n",
    "import numpy.linalg as la\n",
    "\n",
    "def dikin_algorithm(A: np.ndarray, \n",
    "                     b: np.ndarray, \n",
    "                     c: np.ndarray, \n",
    "                     epsilon:float,\n",
    "                     alpha: float = 5 * 10 ** -4,\n",
    "                     max_iterations: int = 10 ** 3) -> Optional[np.ndarray]:\n",
    "    # the problem is assumed to be on the standard form\n",
    "\n",
    "    # step1: initialization\n",
    "    x_k = dikin_initialization(A, b, epsilon=epsilon)\n",
    "\n",
    "\n",
    "    if x_k is None:\n",
    "        return None\n",
    "    \n",
    "    _, n = A.shape\n",
    "\n",
    "    if c.ndim == 1:\n",
    "        c = np.expand_dims(c, axis=-1) \n",
    "\n",
    "    assert c.shape == (n, 1), \"make sure the vector of cost coefficients is of the correct shape\"\n",
    "\n",
    "    # define \"e\"\n",
    "    e_vec = np.ones((1, n))\n",
    "    \n",
    "    iter_counter = 0\n",
    "\n",
    "    while iter_counter <= max_iterations:\n",
    "        # extract the diagonal matrix out of x_k\n",
    "        # x_k = \n",
    "        x_dk = np.diag(x_k.squeeze())\n",
    "\n",
    "        # step2: computation of dual estimates\n",
    "        w_k = la.inv((A @ x_dk) @ (x_dk  @ A.T)) @ (A @ x_dk) @ x_dk @ c \n",
    "\n",
    "        # step3: computation of reduced costs\n",
    "        r_k = c - A.T @ w_k\n",
    "\n",
    "        # step4: check for optimality\n",
    "        if np.all(r_k >= 0) and (e_vec @ x_dk @ r_k).item() <= epsilon:\n",
    "            return x_k.squeeze()\n",
    "        \n",
    "        # step5: compute dky\n",
    "        dy_k = -x_dk @ r_k\n",
    "\n",
    "        # step6: \n",
    "        ## check for unboundedness\n",
    "        if np.all(dy_k > 0):\n",
    "            return None\n",
    "        \n",
    "        # check for optimal solution\n",
    "        if np.all(dy_k == 0):\n",
    "            return x_k.squeeze()\n",
    "        \n",
    "        \n",
    "        # step7:\n",
    "        # find the minimum value out of [- 1 / (dk_y (i))] out of i such that (dk_y (i) < 0) \n",
    "        step_k = np.min([-1 / (x) for x  in dy_k.squeeze() if x < 0]).item() * alpha\n",
    "\n",
    "        x_k = x_k + step_k * (x_dk @ dy_k)\n",
    "\n",
    "        # make sure to increment the counter\n",
    "        iter_counter += 1\n"
   ]
  },
  {
   "cell_type": "code",
   "execution_count": 43,
   "metadata": {},
   "outputs": [],
   "source": [
    "def run_dikin_algo(percent_error: float):\n",
    "    A, yprime = prepare_message(message=MY_MESSAGE, percent_error=percent_error)\n",
    "\n",
    "    _, n = A.shape\n",
    "\n",
    "    cost_vec = get_cost_coefficients(A)\n",
    "    b_eq = get_eq_constraints(A, yprime)\n",
    "    A_eq = get_standard_format_matrix(A)\n",
    "\n",
    "    \n",
    "    file_name = os.path.join(SCRIPT_DIR, f\"dikin_my_msg_{percent_error}.npy\") \n",
    "    \n",
    "    if not os.path.exists(file_name):\n",
    "        x_dikin = dikin_algorithm(A_eq, b_eq, cost_vec, 10 ** -3)        \n",
    "        np.save(x_dikin, file_name)\n",
    "    else:\n",
    "        return n, np.load(file_name)\n",
    "    \n",
    "    return n, x_dikin"
   ]
  },
  {
   "cell_type": "code",
   "execution_count": 44,
   "metadata": {},
   "outputs": [
    {
     "name": "stderr",
     "output_type": "stream",
     "text": [
      "/tmp/ipykernel_3936469/744834671.py:35: DeprecationWarning: Conversion of an array with ndim > 0 to a scalar is deprecated, and will error in future. Ensure you extract a single element from your array before performing this operation. (Deprecated NumPy 1.25.)\n",
      "  y[i, j] = int(x[k])  # Fill the binary matrix\n"
     ]
    },
    {
     "name": "stdout",
     "output_type": "stream",
     "text": [
      "The recovered message is with 0 noise level: Test...test...Ayhem Speaking...\n",
      "The recovered message is with 0.05 noise level: Test...test...Ayhem Speaking...\n",
      "The recovered message is with 0.1 noise level: Test...test...Ayhem Speaking...\n",
      "The recovered message is with 0.2 noise level: Uåãto/&tDjp/,«\u0002}h5m ÛP``{`*#$..\n",
      "The recovered message is with 0.3 noise level: R\u0005P<+§Z4$\"\u0014.\u0004¨\t=hq\t\u0010Ux/åR *¤_\n",
      "The recovered message is with 0.4 noise level: D¶q\u0013,.\n",
      "\u0014%!\u0014Ù@PH \u0012déz)?É&j\u0002\n",
      "The recovered message is with 0.5 noise level: PA2A\u0017,\u0019TA\u0010<ö\u000e\u0000\u0001$A)\"\u0011P#\u0000sa,D\u0010\n",
      "The recovered message is with 0.6 noise level: YeÁ.\n",
      "$sh\u0002ABb\u0004\u0000\u0014Ð0I \u0002\u0006& \f\u0004\n",
      "\t\u0002$\u00066&covered message is with 0.7 noise level: UEBD\u0002\"\u0000\u0001!rA\t\u0000$\u0002ba \n",
      "The recovered message is with 0.8 noise level:  \u0000\u0002\u0000  \u0000\u0000\u0000@\u0000\u0004\u0002@\u0000\u0000\u0000\u0000\u0000\u0000@\u0000\u0000\u0010\u0004\u0010\u0000\n"
     ]
    }
   ],
   "source": [
    "for pe in [0, 0.05, 0.1, 0.2, 0.3, 0.4, 0.5, 0.6, 0.7, 0.8]:\n",
    "    n, x = run_dikin_algo(pe)\n",
    "    xprime = x[:n]\n",
    "    d = 8    # Number of bits per character\n",
    "    message_decoded, binary_matrix = decoding_bin(xprime, d)\n",
    "    print(f\"The recovered message is with {pe} noise level:\", message_decoded) "
   ]
  },
  {
   "cell_type": "markdown",
   "metadata": {
    "id": "hGjUwdVpESvv"
   },
   "source": [
    "# Section 4 - Integer Programming"
   ]
  },
  {
   "cell_type": "markdown",
   "metadata": {
    "id": "kr0UDBMzEYu1"
   },
   "source": [
    "This section is dedicated to the seventh question of the project:\n",
    "- by imposing binary variables: can you recover your message with a higher noise level?"
   ]
  },
  {
   "cell_type": "code",
   "execution_count": 47,
   "metadata": {},
   "outputs": [],
   "source": [
    "def solve_integer(A: np.ndarray, y_noise: np.ndarray):\n",
    "    # according to the scipy.linprog documentation\n",
    "    # the function accepts 5 arguments\n",
    "    # c, Aub, bub, Aeq, b_eq, lb, ub\n",
    "\n",
    "    # minimize: c @ x\n",
    "    # such that\n",
    "    # A_ub @ x <= b_ub\n",
    "    # A_eq @ x == b_eq\n",
    "    # lb <= x <= ub\n",
    "\n",
    "    c = get_cost_coefficients(A)\n",
    "    Astandard = get_standard_format_matrix(A)\n",
    "    b_standard = get_eq_constraints(A, y_noise)\n",
    "\n",
    "    _, n = A.shape\n",
    "\n",
    "    integr = np.zeros(len(c))\n",
    "    for i in range(n):\n",
    "        integr[i] = 1\n",
    "\n",
    "    return n, opt.linprog(c, A_eq=Astandard, b_eq=b_standard, integrality=integr, method='highs', options={'maxiter': 100}).x"
   ]
  },
  {
   "cell_type": "code",
   "execution_count": 48,
   "metadata": {},
   "outputs": [],
   "source": [
    "def decode_integer_messages(message: str, percent_error: float = 0.1):\n",
    "    A, yprime = prepare_message(message=message, percent_error=percent_error)\n",
    "\n",
    "    m, n = A.shape\n",
    "\n",
    "    file_name = os.path.join(SCRIPT_DIR, f'integer_my_msg_{round(percent_error, 4)}.npy')\n",
    "\n",
    "    if not os.path.exists(file_name): \n",
    "        n, x_standard = solve_integer(A, yprime)\n",
    "        np.save(file_name, x_standard)\n",
    "        return n, x_standard\n",
    "    else:\n",
    "        return n, np.load(file_name)   "
   ]
  },
  {
   "cell_type": "code",
   "execution_count": 49,
   "metadata": {},
   "outputs": [
    {
     "name": "stdout",
     "output_type": "stream",
     "text": [
      "The recovered message is with 0 noise level: Test...test...Ayhem Speaking...\n",
      "The recovered message is with 0.05 noise level: Test...test...Ayhem Speaking...\n",
      "The recovered message is with 0.1 noise level: Test...test...Ayhem Speaking...\n",
      "The recovered message is with 0.2 noise level: Test...test...Ayhem Speaking...\n",
      "The recovered message is with 0.3 noise level: Test...test...Ayhem Speaking...\n",
      "The recovered message is with 0.4 noise level: Test...test...Ayhem Speaking...\n"
     ]
    }
   ],
   "source": [
    "for pe in [0, 0.05, 0.1, 0.2, 0.3, 0.4]:\n",
    "    n, x = decode_integer_messages(MY_MESSAGE, pe)\n",
    "    xprime = x[:n]\n",
    "    d = 8    # Number of bits per character\n",
    "    message_decoded, binary_matrix = decoding_bin(xprime, d)\n",
    "    print(f\"The recovered message is with {pe} noise level:\", message_decoded) "
   ]
  }
 ],
 "metadata": {
  "colab": {
   "collapsed_sections": [
    "JwLBlvHEeSwd",
    "kIDncpN3p02h",
    "zZqRba04AArl",
    "fd-KYQT8E3dH",
    "hGjUwdVpESvv"
   ],
   "provenance": []
  },
  "kernelspec": {
   "display_name": "tus_env",
   "language": "python",
   "name": "python3"
  },
  "language_info": {
   "codemirror_mode": {
    "name": "ipython",
    "version": 3
   },
   "file_extension": ".py",
   "mimetype": "text/x-python",
   "name": "python",
   "nbconvert_exporter": "python",
   "pygments_lexer": "ipython3",
   "version": "3.10.14"
  }
 },
 "nbformat": 4,
 "nbformat_minor": 0
}
