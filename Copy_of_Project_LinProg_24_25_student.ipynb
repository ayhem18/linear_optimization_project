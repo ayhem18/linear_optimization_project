{
 "cells": [
  {
   "cell_type": "markdown",
   "metadata": {
    "id": "JwLBlvHEeSwd"
   },
   "source": [
    "# Section 0 - Useful functions for your project"
   ]
  },
  {
   "cell_type": "code",
   "execution_count": null,
   "metadata": {
    "id": "Qt1xTIaoZcdL"
   },
   "outputs": [],
   "source": [
    "# Import useful libraries\n",
    "import numpy as np\n",
    "import scipy.io as io\n",
    "import scipy.optimize as opt\n",
    "import os\n",
    "\n",
    "from tqdm import tqdm\n",
    "from itertools import combinations\n",
    "\n",
    "\n",
    "SCRIPT_DIR = os.getcwd()\n",
    "X_STANDARD_SOL_PATH = os.path.join(SCRIPT_DIR, 'x_standard.npy')"
   ]
  },
  {
   "cell_type": "markdown",
   "metadata": {
    "id": "30Jzyb7QZo9b"
   },
   "source": [
    "Here-under we define the functions to:\n",
    "- Encode a sentence into a binary vector\n",
    "- Decode a binary vector into a sentence"
   ]
  },
  {
   "cell_type": "code",
   "execution_count": null,
   "metadata": {
    "id": "ZDCdJyuSZnq0"
   },
   "outputs": [],
   "source": [
    "def encoding_bin(mess):\n",
    "    # Convert each character to its ASCII value and then to binary\n",
    "    xi = [format(ord(char), '08b') for char in mess]\n",
    "\n",
    "    # Get the number of characters\n",
    "    m = len(xi)\n",
    "\n",
    "    # Initialize an empty list for the binary vector\n",
    "    x = []\n",
    "\n",
    "    # Convert each binary string to a binary vector\n",
    "    for i in range(m):\n",
    "        x.append([int(bit) for bit in xi[i]])\n",
    "\n",
    "    # Convert the list to a numpy array for easier manipulation\n",
    "    x = np.array(x)\n",
    "\n",
    "\n",
    "    # Return the binary vector and its dimensions\n",
    "    d = x.shape[1]  # Number of bits per character\n",
    "    x = x.flatten() # convert into a 1-d vector\n",
    "    return x, d\n",
    "\n",
    "def decoding_bin(x, d):\n",
    "    # Ensure x is a binary vector (0s and 1s)\n",
    "    x = np.clip(x, 0, 1)  # Clip values to be between 0 and 1\n",
    "    x = np.round(x)        # Round values to the nearest integer\n",
    "\n",
    "    # Initialize the output array\n",
    "    y = np.zeros((len(x) // d, d), dtype=int)\n",
    "\n",
    "    k = 0\n",
    "    for i in range(len(x) // d):\n",
    "        for j in range(d):\n",
    "            y[i, j] = int(x[k])  # Fill the binary matrix\n",
    "            k += 1\n",
    "\n",
    "    # Convert binary to decimal and then to characters\n",
    "    mess = ''.join(chr(int(''.join(map(str, row)), 2)) for row in y)\n",
    "\n",
    "    return mess, y"
   ]
  },
  {
   "cell_type": "code",
   "execution_count": null,
   "metadata": {
    "colab": {
     "base_uri": "https://localhost:8080/"
    },
    "id": "G7Se6r4CaVN8",
    "outputId": "e2ff4737-6345-45d6-d1b0-52e53adf06e5"
   },
   "outputs": [],
   "source": [
    "message_in = \"So happy to see you\"\n",
    "print(\"Message sent:\", message_in)\n",
    "binary_vector, dimensions = encoding_bin(message_in)\n",
    "print(\"Binary Vector:\\n\", binary_vector)\n",
    "float_vector = binary_vector.astype(np.float32)\n",
    "message_decoded, binary_matrix = decoding_bin(float_vector, dimensions)\n",
    "print(\"Decoded message:\", message_decoded)"
   ]
  },
  {
   "cell_type": "code",
   "execution_count": null,
   "metadata": {
    "colab": {
     "base_uri": "https://localhost:8080/"
    },
    "id": "j3NvY3_swjrZ",
    "outputId": "1cea996f-3a74-4107-9a34-c25d9685dd9a"
   },
   "outputs": [],
   "source": [
    "dimensions"
   ]
  },
  {
   "cell_type": "markdown",
   "metadata": {
    "id": "stIne1dwngC9"
   },
   "source": [
    "The function below simulates the effect of the noisy channel"
   ]
  },
  {
   "cell_type": "code",
   "execution_count": null,
   "metadata": {
    "id": "7W7DMfx2eEPt"
   },
   "outputs": [],
   "source": [
    "# Disrupts percenterror% of y entries randomly\n",
    "def noisychannel(y, percenterror):\n",
    "    m = len(y)                               # Length of the message\n",
    "    K = int(np.floor(m * percenterror))      # Number of entries to corrupt\n",
    "    I = np.random.permutation(m)[:K]         # Random indices to corrupt\n",
    "    y_n = np.copy(y)                         # Copy of the orginal message\n",
    "    vec = np.random.rand(K) * np.mean(y)\n",
    "    y_n[I] = vec                             # Corruption of selected inputs\n",
    "    return y_n"
   ]
  },
  {
   "cell_type": "code",
   "execution_count": null,
   "metadata": {
    "colab": {
     "base_uri": "https://localhost:8080/"
    },
    "id": "sEoAkby4gwAw",
    "outputId": "f790b6d2-6b5a-44a9-afbb-747ce43e78e9"
   },
   "outputs": [],
   "source": [
    "# Try it\n",
    "message_in = \"A crystal clear message\"\n",
    "binary_vector, dimensions = encoding_bin(message_in)\n",
    "percenterror = 0.05\n",
    "float_vector = binary_vector.astype(np.float32)\n",
    "yprime = noisychannel(float_vector, percenterror)\n",
    "print(\"Message sent:\", message_in)\n",
    "message_corr_decoded, binary_matrix = decoding_bin(yprime, dimensions)\n",
    "print(\"Decoded noisy message:\", message_corr_decoded)"
   ]
  },
  {
   "cell_type": "code",
   "execution_count": null,
   "metadata": {
    "colab": {
     "base_uri": "https://localhost:8080/"
    },
    "id": "KjobNgJKvS3c",
    "outputId": "41fc8cf9-36c8-45ff-eeb9-01f97847c0bf"
   },
   "outputs": [],
   "source": [
    "float_vector.shape"
   ]
  },
  {
   "cell_type": "markdown",
   "metadata": {
    "id": "kIDncpN3p02h"
   },
   "source": [
    "# Section 1 - Decode the Message from Alice"
   ]
  },
  {
   "cell_type": "code",
   "execution_count": null,
   "metadata": {
    "id": "4uJGoNQSoLdS"
   },
   "outputs": [],
   "source": [
    "# Load your mat file in Python\n",
    "## Once your team is built, contact the Instructors by email to mention who is part of the group.\n",
    "## You will then receive by return email your personal message from Alice to decrypt in .mat file.\n",
    "## Alert: do not share it !\n",
    "\n",
    "data = io.loadmat('messageFromAlice.mat')\n",
    "# data is dictionnay where\n",
    "## data['A'] is the encoding matrix exchanged between Alice and Bob\n",
    "## data['d'] is the dimension\n",
    "## data['yprime'] is the encrypted message received from Alice\n",
    "\n",
    "# Load the arrays\n",
    "A = data['A']\n",
    "yprime = data['yprime'].T\n",
    "yprime = np.squeeze(yprime)\n",
    "d = data['d'][0][0]"
   ]
  },
  {
   "cell_type": "code",
   "execution_count": null,
   "metadata": {},
   "outputs": [],
   "source": [
    "A.shape, yprime.shape"
   ]
  },
  {
   "cell_type": "code",
   "execution_count": null,
   "metadata": {},
   "outputs": [],
   "source": [
    "# let's create some utility functions\n",
    "def get_standard_format_matrix(A: np.ndarray) -> np.ndarray:\n",
    "    m, p = A.shape\n",
    "    I = np.eye(m)\n",
    "    # let's prepare the 4 blocks\n",
    "    ab1 = np.concatenate([-A, I, -np.eye(m), np.zeros((m, m)), np.zeros((m, p))], axis=1)\n",
    "    ab2 = np.concatenate([A, I, np.zeros((m, m)), -np.eye(m), np.zeros((m, p))], axis=1)\n",
    "    ab3 = np.concatenate([-np.eye(p), np.zeros((p, m)), np.zeros((p, m)), np.zeros((p, m)), -np.eye(p)], axis=1)\n",
    "    \n",
    "    Astandard = np.concatenate([ab1, ab2, ab3], axis=0)\n",
    "\n",
    "    assert Astandard.shape == (2 * m + p, 2 * p + 3 * m), f\"Expected {(2 * m + p, 2 * p + 3 * m)}. Found: {Astandard.shape}\"\n",
    "\n",
    "    return Astandard\n",
    "\n",
    "def get_cost_coefficients(A: np.ndarray) -> np.ndarray:\n",
    "    m, p = A.shape\n",
    "    # let's build the cost coefficient \n",
    "    c = np.concatenate([np.zeros((1, p)), \n",
    "                        np.ones((1, m)),\n",
    "                        np.zeros((1, m)),\n",
    "                        np.zeros((1, m)),\n",
    "                        np.zeros((1, p)),                        \n",
    "                        ], \n",
    "                        axis=1).squeeze() \n",
    "\n",
    "    # c = [0, 0, 0, 0, 0...1, 1, 1,] (p 0s and m 1s)\n",
    "    assert c.shape == (2 * p + 3 * m, ), f\"Expected {(2 * p + 3 * m, )}. Found: {c.shape}\"\n",
    "\n",
    "    return c\n",
    "\n",
    "def get_eq_constraints(A: np.ndarray, y_noise: np.ndarray) -> np.ndarray:\n",
    "    m, p = A.shape\n",
    "    y_2d = np.expand_dims(y_noise, axis=0)\n",
    "    b_standard = np.concatenate([-y_2d, y_2d, -np.ones((1, p))], axis=1).squeeze()\n",
    "    assert b_standard .shape == (2 * m + p,), f\"Expected {(2 * m + p,)}. Found: {b_standard .shape}\"\n",
    "    return b_standard\n"
   ]
  },
  {
   "cell_type": "code",
   "execution_count": null,
   "metadata": {},
   "outputs": [],
   "source": [
    "def decode_secrete_message(A: np.ndarray, y_noise: np.ndarray):\n",
    "    # according to the scipy.linprog documentation\n",
    "    # the function accepts 5 arguments\n",
    "    # c, Aub, bub, Aeq, b_eq, lb, ub\n",
    "\n",
    "    # minimize: c @ x\n",
    "    # such that\n",
    "    # A_ub @ x <= b_ub\n",
    "    # A_eq @ x == b_eq\n",
    "    # lb <= x <= ub\n",
    "\n",
    "    c = get_cost_coefficients(A)\n",
    "    Astandard = get_standard_format_matrix(A)\n",
    "    b_standard = get_eq_constraints(A, y_noise)\n",
    "\n",
    "    x_standard = opt.linprog(c, A_ub=None, b_ub=None, A_eq=Astandard, b_eq=b_standard, bounds=(0, None), method='revised simplex').x\n",
    "    return x_standard"
   ]
  },
  {
   "cell_type": "markdown",
   "metadata": {
    "id": "qVtiI2natbSJ"
   },
   "source": [
    "Use your algorithm to solve\n",
    "\n",
    "$min_{0 <= x^{'} <= 1} ||A*x^{'} - y^{'}||_1$\n"
   ]
  },
  {
   "cell_type": "code",
   "execution_count": null,
   "metadata": {
    "id": "TN_wHLGcrzEV"
   },
   "outputs": [],
   "source": [
    "# save x_standard once instead of rerunning everytime\n",
    "if not os.path.exists(X_STANDARD_SOL_PATH):\n",
    "    x_standard = decode_secrete_message(A, yprime)\n",
    "    np.save(X_STANDARD_SOL_PATH, x_standard)\n",
    "else:\n",
    "    x_standard = np.load(X_STANDARD_SOL_PATH)\n",
    "\n",
    "# since x_standard contains xprime, t and slack variables, we need to extract x' before proceeding\n",
    "xprime = x_standard[:A.shape[1]]"
   ]
  },
  {
   "cell_type": "code",
   "execution_count": null,
   "metadata": {
    "id": "UgSyh-lfs_UB"
   },
   "outputs": [],
   "source": [
    "# Display the result:\n",
    "d = 8    # Number of bits per character\n",
    "message_decoded, binary_matrix = decoding_bin(xprime, d)\n",
    "print(\"The recovered message is:\", message_decoded)"
   ]
  },
  {
   "cell_type": "code",
   "execution_count": null,
   "metadata": {},
   "outputs": [],
   "source": [
    "\n",
    "# def is_invertible(matrix: np.ndarray):\n",
    "#     # determining whether a matrix numerically is tricky...\n",
    "#     # using the following approach:\n",
    "#     # https://stackoverflow.com/questions/17931613/how-to-decide-a-whether-a-matrix-is-singular-in-python-numpy\n",
    "\n",
    "#     if matrix.shape[0] != matrix.shape[1]:\n",
    "#         raise ValueError(f\"Make sure to pass an invertible matrix. found matrix with shape: {matrix.shape}\")\n",
    "    \n",
    "#     return np.linalg.matrix_rank(matrix) == matrix.shape[0]"
   ]
  },
  {
   "cell_type": "code",
   "execution_count": null,
   "metadata": {},
   "outputs": [],
   "source": [
    "# def isVertex(A: np.ndarray, solution: np.ndarray, zero_thresh: float = 10 ** -12) -> bool:\n",
    "#     Astadard = get_standard_format_matrix(A)\n",
    "\n",
    "#     m, n = Astadard.shape\n",
    "\n",
    "#     # consider values less than a certain threshold as zero\n",
    "#     c_sol = np.clip(solution, zero_thresh, 1)\n",
    "#     c_sol = c_sol  * (c_sol >= zero_thresh).astype(float) # any value less than 'zero_thresh' will be set to 0\n",
    "\n",
    "#     zero_entries_indices = [i for i, v in enumerate(solution) if v == 0]\n",
    "\n",
    "#     print(f\"found {len(zero_entries_indices)} zero entries with n - m equals: {n - m}\")\n",
    "\n",
    "#     # find all the combinations of set with (n - m) zero entries\n",
    "#     cs = list(combinations(zero_entries_indices, n - m))\n",
    "\n",
    "#     for null_entries in tqdm(cs, desc=\"iterating through possible combinations\"):\n",
    "#         # convert the null_entries to a set\n",
    "#         null_entries = set(null_entries)\n",
    "#         # extract the basic_entries\n",
    "#         basic_entries = [i for i, _ in enumerate(solution) if i not in null_entries]\n",
    "\n",
    "#         # extract the submatrix\n",
    "#         basic_submatrix = Astadard[:, basic_entries]\n",
    "#         # make sure the shape is correct\n",
    "#         assert basic_submatrix.shape == (m, m)\n",
    "\n",
    "#         # check the invertibility of the basic submatrix \n",
    "#         is_basic = is_invertible(basic_submatrix)\n",
    "\n",
    "#         # if we found an invertible, then our job is done here\n",
    "#         if is_basic:    \n",
    "#             return True\n",
    "        \n",
    "#         # otherwise... move to the next candidate set of null entries.\n",
    "\n",
    "#     return False"
   ]
  },
  {
   "cell_type": "code",
   "execution_count": null,
   "metadata": {},
   "outputs": [],
   "source": [
    "# isVertex(A = A, solution=x_standard)"
   ]
  },
  {
   "cell_type": "markdown",
   "metadata": {
    "id": "zZqRba04AArl"
   },
   "source": [
    "# Section 2 - Generate and Decode your own messages"
   ]
  },
  {
   "cell_type": "markdown",
   "metadata": {
    "id": "rbsk2I_eBhtz"
   },
   "source": [
    "This section is dedicated to the fifth question of the project:\n",
    "- Sending an encrypted message through a channel with sparse Gaussian noise...\n",
    "- Encode and decode a message yourself:"
   ]
  },
  {
   "cell_type": "code",
   "execution_count": null,
   "metadata": {
    "id": "XDxNWsuUAHt2"
   },
   "outputs": [],
   "source": [
    "#  Message to send\n",
    "my_mess = \"Hey ! Welcome \"\n",
    "\n",
    "# Message in binary form\n",
    "binary_vector, d = encoding_bin(my_mess)\n",
    "x = binary_vector.astype(np.float32)\n",
    "\n",
    "# Length of the message\n",
    "size = x.shape\n",
    "n = size[0]\n",
    "\n",
    "# Length of the message which will be sent\n",
    "m = 4*n\n",
    "\n",
    "# Encoding matrix: we take a randomly generated matrix\n",
    "A = np.random.randn(m,n)\n",
    "\n",
    "# Message you wish to send\n",
    "y = A@x\n",
    "\n",
    "# Noise added by the transmission channel\n",
    "# = normal N(0,sigma) for a % input of y\n",
    "percenterror = 0.1\n",
    "yprime = noisychannel(y, percenterror)"
   ]
  },
  {
   "cell_type": "markdown",
   "metadata": {
    "id": "JiqEFkWcC0CY"
   },
   "source": [
    "Find x approximately from yprime by solving:\n",
    "\n",
    "\n",
    "$min_{0 <= x^{'} <= 1} ||A*x^{'} - y^{'}||_1$"
   ]
  },
  {
   "cell_type": "code",
   "execution_count": null,
   "metadata": {
    "id": "pw265t1xCzaA"
   },
   "outputs": [],
   "source": [
    "xprime = yourAlgorithm(A, yprime)"
   ]
  },
  {
   "cell_type": "code",
   "execution_count": null,
   "metadata": {
    "id": "RQcuXY0-Dqo2"
   },
   "outputs": [],
   "source": [
    "# Display the result:\n",
    "d = 8    # Number of bits per character\n",
    "message_decoded, binary_matrix = decoding_bin(xprime, d)\n",
    "print(\"The recovered message is:\", message_decoded)\n",
    "print(\"The error is:\", np.linalg.norm(x-xprime))"
   ]
  },
  {
   "cell_type": "markdown",
   "metadata": {
    "id": "fd-KYQT8E3dH"
   },
   "source": [
    "# Section 3 - Dikin's Method"
   ]
  },
  {
   "cell_type": "markdown",
   "metadata": {
    "id": "Sba0cT9SFEMA"
   },
   "source": [
    "This section is dedicated to the sixth question of the project:\n",
    "- Implement the Dikin's Method and compare its results with the previous ones."
   ]
  },
  {
   "cell_type": "markdown",
   "metadata": {
    "id": "hGjUwdVpESvv"
   },
   "source": [
    "# Section 4 - Integer Programming"
   ]
  },
  {
   "cell_type": "markdown",
   "metadata": {
    "id": "kr0UDBMzEYu1"
   },
   "source": [
    "This section is dedicated to the seventh question of the project:\n",
    "- by imposing binary variables: can you recover your message with a higher noise level?"
   ]
  },
  {
   "cell_type": "code",
   "execution_count": null,
   "metadata": {
    "id": "TzkFoDceEXYz"
   },
   "outputs": [],
   "source": []
  }
 ],
 "metadata": {
  "colab": {
   "collapsed_sections": [
    "JwLBlvHEeSwd",
    "kIDncpN3p02h",
    "zZqRba04AArl",
    "fd-KYQT8E3dH",
    "hGjUwdVpESvv"
   ],
   "provenance": []
  },
  "kernelspec": {
   "display_name": "Python 3",
   "name": "python3"
  },
  "language_info": {
   "name": "python"
  }
 },
 "nbformat": 4,
 "nbformat_minor": 0
}
