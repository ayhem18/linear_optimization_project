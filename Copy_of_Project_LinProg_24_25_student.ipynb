{
 "cells": [
  {
   "cell_type": "markdown",
   "metadata": {
    "id": "JwLBlvHEeSwd"
   },
   "source": [
    "# Section 0 - Useful functions for your project"
   ]
  },
  {
   "cell_type": "code",
   "execution_count": null,
   "metadata": {
    "id": "Qt1xTIaoZcdL"
   },
   "outputs": [],
   "source": [
    "# Import useful libraries\n",
    "import numpy as np\n",
    "import scipy.io\n",
    "import scipy.optimize"
   ]
  },
  {
   "cell_type": "markdown",
   "metadata": {
    "id": "30Jzyb7QZo9b"
   },
   "source": [
    "Here-under we define the functions to:\n",
    "- Encode a sentence into a binary vector\n",
    "- Decode a binary vector into a sentence"
   ]
  },
  {
   "cell_type": "code",
   "execution_count": null,
   "metadata": {
    "id": "ZDCdJyuSZnq0"
   },
   "outputs": [],
   "source": [
    "def encoding_bin(mess):\n",
    "    # Convert each character to its ASCII value and then to binary\n",
    "    xi = [format(ord(char), '08b') for char in mess]\n",
    "\n",
    "    # Get the number of characters\n",
    "    m = len(xi)\n",
    "\n",
    "    # Initialize an empty list for the binary vector\n",
    "    x = []\n",
    "\n",
    "    # Convert each binary string to a binary vector\n",
    "    for i in range(m):\n",
    "        x.append([int(bit) for bit in xi[i]])\n",
    "\n",
    "    # Convert the list to a numpy array for easier manipulation\n",
    "    x = np.array(x)\n",
    "\n",
    "\n",
    "    # Return the binary vector and its dimensions\n",
    "    d = x.shape[1]  # Number of bits per character\n",
    "    x = x.flatten() # convert into a 1-d vector\n",
    "    return x, d\n",
    "\n",
    "def decoding_bin(x, d):\n",
    "    # Ensure x is a binary vector (0s and 1s)\n",
    "    x = np.clip(x, 0, 1)  # Clip values to be between 0 and 1\n",
    "    x = np.round(x)        # Round values to the nearest integer\n",
    "\n",
    "    # Initialize the output array\n",
    "    y = np.zeros((len(x) // d, d), dtype=int)\n",
    "\n",
    "    k = 0\n",
    "    for i in range(len(x) // d):\n",
    "        for j in range(d):\n",
    "            y[i, j] = int(x[k])  # Fill the binary matrix\n",
    "            k += 1\n",
    "\n",
    "    # Convert binary to decimal and then to characters\n",
    "    mess = ''.join(chr(int(''.join(map(str, row)), 2)) for row in y)\n",
    "\n",
    "    return mess, y"
   ]
  },
  {
   "cell_type": "code",
   "execution_count": null,
   "metadata": {
    "colab": {
     "base_uri": "https://localhost:8080/"
    },
    "id": "G7Se6r4CaVN8",
    "outputId": "e2ff4737-6345-45d6-d1b0-52e53adf06e5"
   },
   "outputs": [
    {
     "name": "stdout",
     "output_type": "stream",
     "text": [
      "Message sent: So happy to see you\n",
      "Binary Vector:\n",
      " [0 1 0 1 0 0 1 1 0 1 1 0 1 1 1 1 0 0 1 0 0 0 0 0 0 1 1 0 1 0 0 0 0 1 1 0 0\n",
      " 0 0 1 0 1 1 1 0 0 0 0 0 1 1 1 0 0 0 0 0 1 1 1 1 0 0 1 0 0 1 0 0 0 0 0 0 1\n",
      " 1 1 0 1 0 0 0 1 1 0 1 1 1 1 0 0 1 0 0 0 0 0 0 1 1 1 0 0 1 1 0 1 1 0 0 1 0\n",
      " 1 0 1 1 0 0 1 0 1 0 0 1 0 0 0 0 0 0 1 1 1 1 0 0 1 0 1 1 0 1 1 1 1 0 1 1 1\n",
      " 0 1 0 1]\n",
      "Decoded message: So happy to see you\n"
     ]
    }
   ],
   "source": [
    "message_in = \"So happy to see you\"\n",
    "print(\"Message sent:\", message_in)\n",
    "binary_vector, dimensions = encoding_bin(message_in)\n",
    "print(\"Binary Vector:\\n\", binary_vector)\n",
    "float_vector = binary_vector.astype(np.float32)\n",
    "message_decoded, binary_matrix = decoding_bin(float_vector, dimensions)\n",
    "print(\"Decoded message:\", message_decoded)"
   ]
  },
  {
   "cell_type": "code",
   "execution_count": null,
   "metadata": {
    "colab": {
     "base_uri": "https://localhost:8080/"
    },
    "id": "j3NvY3_swjrZ",
    "outputId": "1cea996f-3a74-4107-9a34-c25d9685dd9a"
   },
   "outputs": [
    {
     "data": {
      "text/plain": [
       "8"
      ]
     },
     "execution_count": 18,
     "metadata": {},
     "output_type": "execute_result"
    }
   ],
   "source": [
    "dimensions"
   ]
  },
  {
   "cell_type": "markdown",
   "metadata": {
    "id": "stIne1dwngC9"
   },
   "source": [
    "The function below simulates the effect of the noisy channel"
   ]
  },
  {
   "cell_type": "code",
   "execution_count": null,
   "metadata": {
    "id": "7W7DMfx2eEPt"
   },
   "outputs": [],
   "source": [
    "# Disrupts percenterror% of y entries randomly\n",
    "def noisychannel(y, percenterror):\n",
    "    m = len(y)                               # Length of the message\n",
    "    K = int(np.floor(m * percenterror))      # Number of entries to corrupt\n",
    "    I = np.random.permutation(m)[:K]         # Random indices to corrupt\n",
    "    y_n = np.copy(y)                         # Copy of the orginal message\n",
    "    vec = np.random.rand(K) * np.mean(y)\n",
    "    y_n[I] = vec                             # Corruption of selected inputs\n",
    "    return y_n"
   ]
  },
  {
   "cell_type": "code",
   "execution_count": null,
   "metadata": {
    "colab": {
     "base_uri": "https://localhost:8080/"
    },
    "id": "sEoAkby4gwAw",
    "outputId": "f790b6d2-6b5a-44a9-afbb-747ce43e78e9"
   },
   "outputs": [
    {
     "name": "stdout",
     "output_type": "stream",
     "text": [
      "Message sent: A crystal clear message\n",
      "Decoded noisy message: A crqstaL clear -e#sage\n"
     ]
    }
   ],
   "source": [
    "# Try it\n",
    "message_in = \"A crystal clear message\"\n",
    "binary_vector, dimensions = encoding_bin(message_in)\n",
    "percenterror = 0.05\n",
    "float_vector = binary_vector.astype(np.float32)\n",
    "yprime = noisychannel(float_vector, percenterror)\n",
    "print(\"Message sent:\", message_in)\n",
    "message_corr_decoded, binary_matrix = decoding_bin(yprime, dimensions)\n",
    "print(\"Decoded noisy message:\", message_corr_decoded)"
   ]
  },
  {
   "cell_type": "code",
   "execution_count": null,
   "metadata": {
    "colab": {
     "base_uri": "https://localhost:8080/"
    },
    "id": "KjobNgJKvS3c",
    "outputId": "41fc8cf9-36c8-45ff-eeb9-01f97847c0bf"
   },
   "outputs": [
    {
     "data": {
      "text/plain": [
       "(184,)"
      ]
     },
     "execution_count": 21,
     "metadata": {},
     "output_type": "execute_result"
    }
   ],
   "source": [
    "float_vector.shape"
   ]
  },
  {
   "cell_type": "markdown",
   "metadata": {
    "id": "kIDncpN3p02h"
   },
   "source": [
    "# Section 1 - Decode the Message from Alice"
   ]
  },
  {
   "cell_type": "code",
   "execution_count": null,
   "metadata": {
    "id": "4uJGoNQSoLdS"
   },
   "outputs": [],
   "source": [
    "# Load your mat file in Python\n",
    "## Once your team is built, contact the Instructors by email to mention who is part of the group.\n",
    "## You will then receive by return email your personal message from Alice to decrypt in .mat file.\n",
    "## Alert: do not share it !\n",
    "\n",
    "data = scipy.io.loadmat('/content/messageFromAlice.mat')\n",
    "# data is dictionnay where\n",
    "## data['A'] is the encoding matrix exchanged between Alice and Bob\n",
    "## data['d'] is the dimension\n",
    "## data['yprime'] is the encrypted message received from Alice\n",
    "\n",
    "# Load the arrays\n",
    "A = data['A']\n",
    "yprime = data['yprime'].T\n",
    "yprime = np.squeeze(yprime)\n",
    "d = data['d'][0][0]"
   ]
  },
  {
   "cell_type": "code",
   "execution_count": null,
   "metadata": {
    "id": "Q9r0bjFtp3Mr"
   },
   "outputs": [],
   "source": [
    "def yourAlgorithm(A, yprime):\n",
    "  # Size of A\n",
    "  [m,n] = A.shape\n",
    "\n",
    "  # Building the linear program here-under\n",
    "  ## Hint: you have to express the initial Problem into a linear program in standard form\n",
    "  ## Your turn\n",
    "\n",
    "  # Solve it !\n",
    "  ## Use:\n",
    "  ##.    - scipy linear solver \"linprog\", attention to the method (HiGHS dual simplex solver or Primal Simplex or Interior Point Methods) used\n",
    "  ##       https://docs.scipy.org/doc/scipy/reference/generated/scipy.optimize.linprog.html\n",
    "  ##.    - or other linear solvers (for instance from \"Gurobi\"), but it has to be first accepted by the Instructors and second strongly explained/justified in the final report.\n",
    "  ## For those interested, the most efficient method proposed in \"linprog\" SciPy function is called \"highs\", here are some references about it:\n",
    "  ##.    - https://highs.dev/\n",
    "  ##.    - Parallelizing the dual revised simplex method, Q. Huangfu and J. A. J. Hall, Mathematical Programming Computation, 10 (1), 119-142, 2018. DOI: 10.1007/s12532-017-0130-5\n",
    "\n",
    "  # What is below is a dummy solution !\n",
    "  xprime = np.random.rand(n)\n",
    "  xprime.flatten()\n",
    "\n",
    "\n",
    "  return xprime\n"
   ]
  },
  {
   "cell_type": "markdown",
   "metadata": {
    "id": "qVtiI2natbSJ"
   },
   "source": [
    "Use your algorithm to solve\n",
    "\n",
    "$min_{0 <= x^{'} <= 1} ||A*x^{'} - y^{'}||_1$\n"
   ]
  },
  {
   "cell_type": "code",
   "execution_count": null,
   "metadata": {
    "id": "TN_wHLGcrzEV"
   },
   "outputs": [],
   "source": [
    "xprime = yourAlgorithm(A, yprime)"
   ]
  },
  {
   "cell_type": "code",
   "execution_count": null,
   "metadata": {
    "id": "UgSyh-lfs_UB"
   },
   "outputs": [],
   "source": [
    "# Display the result:\n",
    "d = 8    # Number of bits per character\n",
    "message_decoded, binary_matrix = decoding_bin(xprime, d)\n",
    "print(\"The recovered message is:\", message_decoded)"
   ]
  },
  {
   "cell_type": "markdown",
   "metadata": {
    "id": "zZqRba04AArl"
   },
   "source": [
    "# Section 2 - Generate and Decode your own messages"
   ]
  },
  {
   "cell_type": "markdown",
   "metadata": {
    "id": "rbsk2I_eBhtz"
   },
   "source": [
    "This section is dedicated to the fifth question of the project:\n",
    "- Sending an encrypted message through a channel with sparse Gaussian noise...\n",
    "- Encode and decode a message yourself:"
   ]
  },
  {
   "cell_type": "code",
   "execution_count": null,
   "metadata": {
    "id": "XDxNWsuUAHt2"
   },
   "outputs": [],
   "source": [
    "#  Message to send\n",
    "my_mess = \"Hey ! Welcome \"\n",
    "\n",
    "# Message in binary form\n",
    "binary_vector, d = encoding_bin(my_mess)\n",
    "x = binary_vector.astype(np.float32)\n",
    "\n",
    "# Length of the message\n",
    "size = x.shape\n",
    "n = size[0]\n",
    "\n",
    "# Length of the message which will be sent\n",
    "m = 4*n\n",
    "\n",
    "# Encoding matrix: we take a randomly generated matrix\n",
    "A = np.random.randn(m,n)\n",
    "\n",
    "# Message you wish to send\n",
    "y = A@x\n",
    "\n",
    "# Noise added by the transmission channel\n",
    "# = normal N(0,sigma) for a % input of y\n",
    "percenterror = 0.1\n",
    "yprime = noisychannel(y, percenterror)"
   ]
  },
  {
   "cell_type": "markdown",
   "metadata": {
    "id": "JiqEFkWcC0CY"
   },
   "source": [
    "Find x approximately from yprime by solving:\n",
    "\n",
    "\n",
    "$min_{0 <= x^{'} <= 1} ||A*x^{'} - y^{'}||_1$"
   ]
  },
  {
   "cell_type": "code",
   "execution_count": null,
   "metadata": {
    "id": "pw265t1xCzaA"
   },
   "outputs": [],
   "source": [
    "xprime = yourAlgorithm(A, yprime)"
   ]
  },
  {
   "cell_type": "code",
   "execution_count": null,
   "metadata": {
    "id": "RQcuXY0-Dqo2"
   },
   "outputs": [],
   "source": [
    "# Display the result:\n",
    "d = 8    # Number of bits per character\n",
    "message_decoded, binary_matrix = decoding_bin(xprime, d)\n",
    "print(\"The recovered message is:\", message_decoded)\n",
    "print(\"The error is:\", np.linalg.norm(x-xprime))"
   ]
  },
  {
   "cell_type": "markdown",
   "metadata": {
    "id": "fd-KYQT8E3dH"
   },
   "source": [
    "# Section 3 - Dikin's Method"
   ]
  },
  {
   "cell_type": "markdown",
   "metadata": {
    "id": "Sba0cT9SFEMA"
   },
   "source": [
    "This section is dedicated to the sixth question of the project:\n",
    "- Implement the Dikin's Method and compare its results with the previous ones."
   ]
  },
  {
   "cell_type": "markdown",
   "metadata": {
    "id": "hGjUwdVpESvv"
   },
   "source": [
    "# Section 4 - Integer Programming"
   ]
  },
  {
   "cell_type": "markdown",
   "metadata": {
    "id": "kr0UDBMzEYu1"
   },
   "source": [
    "This section is dedicated to the seventh question of the project:\n",
    "- by imposing binary variables: can you recover your message with a higher noise level?"
   ]
  },
  {
   "cell_type": "code",
   "execution_count": null,
   "metadata": {
    "id": "TzkFoDceEXYz"
   },
   "outputs": [],
   "source": []
  }
 ],
 "metadata": {
  "colab": {
   "collapsed_sections": [
    "JwLBlvHEeSwd",
    "kIDncpN3p02h",
    "zZqRba04AArl",
    "fd-KYQT8E3dH",
    "hGjUwdVpESvv"
   ],
   "provenance": []
  },
  "kernelspec": {
   "display_name": "Python 3",
   "name": "python3"
  },
  "language_info": {
   "name": "python"
  }
 },
 "nbformat": 4,
 "nbformat_minor": 0
}
